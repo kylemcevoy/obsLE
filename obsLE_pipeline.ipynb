{
 "cells": [
  {
   "cell_type": "code",
   "execution_count": null,
   "id": "00a1197f-7c23-460b-a5b9-3b224c690d45",
   "metadata": {},
   "outputs": [],
   "source": [
    "import numpy as np\n",
    "import xarray as xr\n",
    "\n",
    "# Our functions\n",
    "import obsLE"
   ]
  },
  {
   "cell_type": "code",
   "execution_count": 2,
   "id": "1eff4911-710b-4174-b9f1-6dfd6090baa2",
   "metadata": {},
   "outputs": [],
   "source": [
    "### Climate Mode Parameters\n",
    "mode_path = '/home/data/projects/NA_precip_extremes/climate_modes/'\n",
    "start_year = '1920'\n",
    "end_year = '2020'\n",
    "# setting (model_mode_list = None) uses all modes: ENSO, PDO, PNA, NAO, AO.\n",
    "mode_list = ['enso', 'pdo', 'pna', 'nao', 'ao']\n",
    "fit_seasonal = [mode != 'pdo' for mode in mode_list]\n",
    "##### Optimization Grid\n",
    "# Boxcox parameters for optimization\n",
    "# lambda is the boxcox power and offset is the boxcox shift\n",
    "# ((y + offset)**lambda - 1) / lambda\n",
    "lambda_values = np.array([0, 1/4, 1/3, 1/2, 2/3, 3/4, 1])\n",
    "offset_values = np.array([1e-6])"
   ]
  },
  {
   "cell_type": "code",
   "execution_count": 3,
   "id": "bc5a197a-fb5f-4018-a6ee-1468705ee368",
   "metadata": {},
   "outputs": [],
   "source": [
    "##### GPCC data\n",
    "\n",
    "### GPCC\n",
    "gpcc_path = '/home/data/GPCC/monthly/*_10.nc'\n",
    "##### lat/lon coord ranges\n",
    "lat_max = 60\n",
    "lat_min = 22\n",
    "lon_min = -126\n",
    "lon_max = -65\n",
    "\n",
    "gpcc = xr.open_mfdataset(gpcc_path)\n",
    "gpcc = gpcc['precip']\n",
    "gpcc = gpcc.sel(time=slice(start_year, end_year))\n",
    "\n",
    "# pay attention to slicing order\n",
    "gpcc_na = gpcc.sel(lat=slice(lat_max, lat_min),\n",
    "                   lon=slice(lon_min, lon_max))\n",
    "gpcc_na = gpcc_na.load()\n",
    "# Names of the GPCC coordinates for creating optim datasets.\n",
    "coord_names = dict(lat='lat', lon='lon')"
   ]
  },
  {
   "cell_type": "code",
   "execution_count": 4,
   "id": "0f2288c1-c249-44ab-a2cf-cdc02d96cd0d",
   "metadata": {},
   "outputs": [],
   "source": [
    "obsLE.obsLE_pipeline(n_ens_members=10,\n",
    "                     target_da=gpcc_na,\n",
    "                     mode_df=None,\n",
    "                     mode_path=mode_path,\n",
    "                     start_year=start_year,\n",
    "                     end_year=end_year,\n",
    "                     mode_list=mode_list,\n",
    "                     lambda_values=lambda_values,\n",
    "                     offset_values=offset_values,\n",
    "                     fit_seasonal=fit_seasonal,\n",
    "                     block_size=24,\n",
    "                     save_path='/home/data/projects/NA_precip_extremes/obsLE/pipeline/')"
   ]
  }
 ],
 "metadata": {
  "kernelspec": {
   "display_name": "clim",
   "language": "python",
   "name": "clim"
  },
  "language_info": {
   "name": "python"
  }
 },
 "nbformat": 4,
 "nbformat_minor": 5
}
